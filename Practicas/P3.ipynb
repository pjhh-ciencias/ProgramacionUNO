{
 "cells": [
  {
   "attachments": {},
   "cell_type": "markdown",
   "metadata": {},
   "source": [
    "<center>\n",
    "<img src=\"../Imagenes/gorila_music.png\" alt=\"\", width=\"25%\" height=\"auto\">\n",
    "<!-- ![Tablero de ajedrez](./Quizes_Imagenes/tablero_ajedrez.jpg) -->\n",
    "</center>\n",
    "\n",
    "# <center>Prácticas tercer parcial</center>"
   ]
  },
  {
   "cell_type": "markdown",
   "metadata": {},
   "source": [
    "## Practica 3.1 \n",
    "\n",
    "\n",
    "#### Escribir un programa en Python que solicite al usuario una contraseña (cadena de caracteres) y determine si esta es una buena contraseña o no. Diremos que una **buena contraseña** es aquella que cumple las siguientes características:\n",
    "\n",
    "####    1. La contraseña debe tener al menos 8 caracteres. \n",
    "####    2. Contenga al menos una letra mayúscula.\n",
    "####    2. Contenga al menos una letra minúscula.\n",
    "####    2. Contenga al menos un número.\n",
    "\n",
    "#### Imprime mediante un mensaje adecuadi si la contraseña que se ingreso es una buena contraseña o no.\n"
   ]
  }
 ],
 "metadata": {
  "kernelspec": {
   "display_name": "Python 3",
   "language": "python",
   "name": "python3"
  },
  "language_info": {
   "codemirror_mode": {
    "name": "ipython",
    "version": 3
   },
   "file_extension": ".py",
   "mimetype": "text/x-python",
   "name": "python",
   "nbconvert_exporter": "python",
   "pygments_lexer": "ipython3",
   "version": "3.11.1"
  },
  "orig_nbformat": 4
 },
 "nbformat": 4,
 "nbformat_minor": 2
}
