{
 "cells": [
  {
   "attachments": {},
   "cell_type": "markdown",
   "metadata": {},
   "source": [
    "<center>\n",
    "<img src=\"../Imagenes/gorila_music.png\" alt=\"\", width=\"25%\" height=\"auto\">\n",
    "<!-- ![Tablero de ajedrez](./Quizes_Imagenes/tablero_ajedrez.jpg) -->\n",
    "</center>\n",
    "\n",
    "# <center>Prácticas tercer parcial</center>"
   ]
  },
  {
   "cell_type": "markdown",
   "metadata": {},
   "source": [
    "## Practica 3.1 "
   ]
  },
  {
   "cell_type": "markdown",
   "metadata": {},
   "source": [
    "#### Escribir un programa en Python que solicite al usuario una contraseña (cadena de caracteres) y determine si esta es una buena contraseña o no. Diremos que una **buena contraseña** es aquella que cumple las siguientes características:\n",
    "\n",
    "####    1. La contraseña debe tener al menos 8 caracteres. \n",
    "####    2. Contenga al menos una letra mayúscula.\n",
    "####    3. Contenga al menos una letra minúscula.\n",
    "####    4. Contenga al menos un número.\n",
    "\n",
    "#### Imprime mediante un mensaje adecuada si la contraseña que se ingreso es una buena contraseña o no.\n"
   ]
  },
  {
   "cell_type": "markdown",
   "metadata": {},
   "source": [
    "## Práctica 3.2"
   ]
  },
  {
   "cell_type": "markdown",
   "metadata": {},
   "source": [
    "#### Escribe un programa en Python que que solicite al usuario ingresar una sucesión finita de números separados por comas y generé e imprima una lista y una tupla cada uno de los números de la sucesión. Por ejemplo, si la sucesión de números es: \n",
    "#### `34,67,55,33,12,98` \n",
    "#### entonces se debe imprimir: \n",
    "#### `['34', '67', '55', '33', '12', '98']` y `('34', '67', '55', '33', '12', '98')`"
   ]
  },
  {
   "cell_type": "markdown",
   "metadata": {},
   "source": [
    "## Práctica 3.3"
   ]
  },
  {
   "cell_type": "markdown",
   "metadata": {},
   "source": [
    "#### Escribe un programa en Python que solicite al usuario ingresar una sucesión finita de palabras separadas por comas e imprima las palabras separadas por comas pero en orden alfabético. Por ejemplo, si el usuario ingresa:\n",
    "#### `Seguros, Matemáticas, Riesgo, Finanzas, Estadística`\n",
    "#### Entonces se debe imprimir:\n",
    "#### `Estadística, Finanzas, Matemáticas, Riesgo, Seguros`"
   ]
  },
  {
   "cell_type": "markdown",
   "metadata": {},
   "source": [
    "## Práctica 3.4"
   ]
  },
  {
   "cell_type": "markdown",
   "metadata": {},
   "source": [
    "#### Escribe un programa en Python que solicite al usuario ingresar una sucesión de palabras separadas por espacios, luego remueva todas las palabras duplicadas e imprimalas en orden alfabético."
   ]
  },
  {
   "cell_type": "markdown",
   "metadata": {},
   "source": [
    "## Práctica 3.5"
   ]
  },
  {
   "cell_type": "markdown",
   "metadata": {},
   "source": [
    "#### Escribe un programa en Python que solicite al usuario que ingrese una sucesión de números binarios de $4$ dígitos separados por comas  y determina si estos son o no divisibles entre $5$ e imprimelos separados por comas aquellos que si lo sean.\n",
    "\n",
    "##### **Sugerencia:** Utiliza la función `int()`. La función `int()` se utiliza para convertir una cadena válida a un número entero. Puede recibir un segundo argumento y tiene múltiples formas de uso, pero en el contexto de números binarios, una de las formas más comunes es la conversión de una cadena de dígitos binarios a un número entero. Por ejemplo \n"
   ]
  },
  {
   "cell_type": "code",
   "execution_count": null,
   "metadata": {},
   "outputs": [],
   "source": [
    "cadena_binaria = '1101' # cadena_binaria es una cadena que representa un número binario.\n",
    "numero_decimal = int(cadena_binaria, 2) #2 en el segundo argumento (el cual es opcional)\n",
    "# que indica que la cadena de entrada está en base 2 (binario).\n",
    "print(numero_decimal)"
   ]
  },
  {
   "cell_type": "markdown",
   "metadata": {},
   "source": [
    "## Práctica 3.6"
   ]
  },
  {
   "cell_type": "markdown",
   "metadata": {},
   "source": [
    "#### Escribe un programa en Python que solicite al usuario que ingrese una cadena (esta puede ser incluso una línea de texto). Luego, utiliza un diccionario para almacenar el número de letras y dígitos que hay en la cadena. Imprime el reultado final mediante un mensaje adecuado."
   ]
  },
  {
   "cell_type": "markdown",
   "metadata": {},
   "source": [
    "## Práctica 3.7"
   ]
  },
  {
   "cell_type": "markdown",
   "metadata": {},
   "source": [
    "#### Escribe un programa en Python que solicite al usuario que ingrese una cadena (esta puede ser incluso una línea de texto). Luego, utiliza un diccionario para almacenar el número de letras mayusculas y letras minusculas que hay en la cadena. Imprime el reultado final mediante un mensaje adecuado."
   ]
  },
  {
   "cell_type": "markdown",
   "metadata": {},
   "source": [
    "## Práctica 3.8"
   ]
  },
  {
   "cell_type": "markdown",
   "metadata": {},
   "source": [
    "#### Escribe un programa en Python que lea el archivo **estado_cuenta.txt** el cual es el estado de cuenta de un cliente del Banco del Bienestar. Luego, basado en el saldo inicial indicado en el archivo y el registro de las transacciones: *Depositos* o *Retiros* y los montos respectivos indicados en el archivo, imprime el saldo final del cliente.\n",
    "\n",
    "#### <a href=\"https://drive.google.com/file/d/14ReM5-uuCym8sF2oCmN-333gudu0PA5p/view?usp=sharing\" download> Descargar estado_cuenta.txt</a>"
   ]
  },
  {
   "cell_type": "markdown",
   "metadata": {},
   "source": [
    "## Práctica 3.9"
   ]
  },
  {
   "cell_type": "markdown",
   "metadata": {},
   "source": [
    "#### Escribe un programa en Python que solicite al usuario una contraseña (cadena de caracteres) y determine si esta es una **muy buena contraseña** o no. Diremos que una **muy buena contraseña** es aquella que cumple las siguientes características:\n",
    "\n",
    "####    1. La contraseña debe tener al menos 8 caracteres. \n",
    "####    2. La contraseña debe a lo más 12 caracteres. \n",
    "####    3. Contenga al menos una letra mayúscula.\n",
    "####    4. Contenga al menos una letra minúscula.\n",
    "####    5. Contenga al menos un número.\n",
    "####    6. La contraseña debe tener al menos un caracter del conjunto {$,@,#}. \n",
    "\n",
    "#### Imprime mediante un mensaje adecuada si la contraseña ingresada es una muy buena contraseña o no."
   ]
  },
  {
   "cell_type": "markdown",
   "metadata": {},
   "source": [
    "## Práctica 3.10"
   ]
  },
  {
   "cell_type": "markdown",
   "metadata": {},
   "source": [
    "#### En el archivo información.txt se encuentran almacenados en cada línea el *nombre, edad* y *altura* de los estudiantes de la carrera de Actuaría de la Universidad del Mar. Escribe un programa en Python que almacene en una lista, las tuplas `(nombre, edad, altura)` en orden ascendente donde el `nombre` es una cadena, la `edad` y la `altura` son números. El criterio de clasificación es siguiente:\n",
    "#### 1: Primero Ordenar según el nombre;\n",
    "#### 2: Luego ordene según la edad;\n",
    "#### 3: Luego ordena por altura.\n",
    "#### La prioridad es entonces: nombre -> edad -> altura.\n",
    "\n",
    "#### <a href=\"https://drive.google.com/file/d/197SGwx77FTi1oQyZyY9HcpHyp-R3-mL_/view?usp=sharing\" download> Descargar informacion.txt</a>"
   ]
  },
  {
   "cell_type": "markdown",
   "metadata": {},
   "source": [
    "## Práctica 3.11\n",
    "\n",
    "#### Crea una función en Python llamada `caracter` que reciba una cadena y devuelve una lista de los caracteres únicos de la cadena de texto."
   ]
  },
 {
   "cell_type": "markdown",
   "metadata": {},
   "source": [
    "## Práctica 3.11'\n",
    "\n",
    "#### Crea una función en Python llamada `caracteres` que reciba una cadena y devuelve una lista con los caracteres de la cadena de texto, cada caracter de la cadena debe aparecer solo una vez en la lista.\n"
   ]
  },
  {
   "cell_type": "markdown",
   "metadata": {},
   "source": [
    "## Práctica 3.12\n",
    "\n",
    "#### Escriba una función llamada **mediana** que tome tres números como parámetros y devuelva la mediana de esos parámetros como resultado. \n"
   ]
  },
  {
   "cell_type": "markdown",
   "metadata": {},
   "source": [
    "## Práctica 3.13\n",
    "\n",
    "\n",
    "#### Escribe una función en Python que se llame `hipotenusa` y que reciba las longitudes de los dos catetos (lados más cortos) de un triángulo rectángulo como sus parámetros y devuelva el valor de la hipotenusa del triángulo, calculada mediante el teorema de Pitágoras. Fuera de la función se deben solicitar al usuario las longitudes de los catetos del triángulo rectángulo, luego llama a la funcion `hipotenusa(cateto1,cateto2)` para calcular la longitud de la hipotenusa y muestre el resultado."
   ]
  },
  {
   "cell_type": "markdown",
   "metadata": {},
   "source": [
    "## Práctica 3.14\n",
    "\n",
    "#### Un minorista en línea ofrece envío exprés para muchos de sus artículos a una tarifa de $10.95 para el primer artículo de un pedido y $2.95 para cada artículo subsiguiente en el mismo pedido. Escribe una función que se llame `gasto_envio` que reciba el número de artículos en el pedido como su único parámetro. Devuelve los gastos de envío del pedido como resultado de la función. Fuera de la función solicite al usuario que ingrese la cantidad de artículos comprados  e imprime el cargo de envío."
   ]
  },
  {
   "cell_type": "markdown",
   "metadata": {},
   "source": [
    "## Práctica 3.15\n",
    "\n",
    "\n",
    "#### En un Bahias de Huatulco, el costo del servicio de taxi consiste en una **tarifa base** de $5.00 pesos más $2.5 por cada 120 metros recorridos. Escribe una función en Python que se llame  `tarifa_taxi` y que reciba como parametro la distancia recorrida (en kilómetros) como único parámetro y devuelva la tarifa total como único resultado. Fuera de la función solicita al usuario la distancia recorrida en kilómetros y luego llame a la función `tarifa_taxi(distancia)` para calcular el costo total e imprima el resultado.\n",
    "\n",
    "#### **Sugerencia:**  Las tarifas de los taxis cambian con el tiempo. Utiliza constantes para representar la tarifa base y la parte variable de la tarifa para que el programa se pueda actualizar fácilmente cuando aumenten las tarifas."
   ]
  },
  {
   "cell_type": "markdown",
   "metadata": {},
   "source": [
    "## Práctica\n",
    "\n",
    "\n",
    "\n",
    "#### Si tienes $3$ popotes, posiblemente de diferentes longitudes, puede o no ser posible colocarlos de manera que formen un triángulo cuando sus extremos se toquen. Por ejemplo, si todas los popotes tienen una longitud de $6$cm, entonces uno puede construir fácilmente un triángulo equilátero usándolas. Sin embargo, si un popote mide $6$ cm de largo, mientras que las otras dos miden sólo $2$ cm cada una, entonces no se puede formar un triángulo. De manera más general, si cualquier longitud es mayor o igual que la suma de las otras dos, entonces las longitudes no se pueden usar para formar un triángulo. De lo contrario, pueden formar un triángulo. Esta propiedad es conocida como **Desigualdad del triángulo**. \n",
    "\n",
    "#### Escribe una función `check_triangulo `que  determine si tres longitudes pueden o no formar un triángulo. La función recibe 3 parámetros y devolverá un resultado booleano. Si alguna de las longitudes es menor o igual a $0$, su función debería devolver `False`. De lo contrario, debe determinar si las longitudes se pueden usar o no para formar un triángulo usando el método descrito en el párrafo anterior e imprimir el resultado apropiado. Además, escriba un programa que solicite al usuario las 3 longitudes del usuario y llame a la funcion `check_triangulo`."
   ]
  },
  {
   "cell_type": "markdown",
   "metadata": {},
   "source": [
    "## Práctica"
   ]
  },
  {
   "cell_type": "markdown",
   "metadata": {},
   "source": [
    "## Práctica"
   ]
  },
  {
   "cell_type": "markdown",
   "metadata": {},
   "source": [
    "## Práctica"
   ]
  },
  {
   "cell_type": "markdown",
   "metadata": {},
   "source": []
  }
 ],
 "metadata": {
  "kernelspec": {
   "display_name": "Python 3",
   "language": "python",
   "name": "python3"
  },
  "language_info": {
   "codemirror_mode": {
    "name": "ipython",
    "version": 3
   },
   "file_extension": ".py",
   "mimetype": "text/x-python",
   "name": "python",
   "nbconvert_exporter": "python",
   "pygments_lexer": "ipython3",
   "version": "3.11.2"
  },
  "orig_nbformat": 4
 },
 "nbformat": 4,
 "nbformat_minor": 2
}
