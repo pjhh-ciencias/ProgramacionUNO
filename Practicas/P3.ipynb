{
 "cells": [
  {
   "attachments": {},
   "cell_type": "markdown",
   "metadata": {},
   "source": [
    "<center>\n",
    "<img src=\"../Imagenes/gorila_music.png\" alt=\"\", width=\"25%\" height=\"auto\">\n",
    "<!-- ![Tablero de ajedrez](./Quizes_Imagenes/tablero_ajedrez.jpg) -->\n",
    "</center>\n",
    "\n",
    "# <center>Prácticas tercer parcial</center>"
   ]
  },
  {
   "cell_type": "markdown",
   "metadata": {},
   "source": [
    "## Practica 3.1 "
   ]
  },
  {
   "cell_type": "markdown",
   "metadata": {},
   "source": [
    "#### Escribir un programa en Python que solicite al usuario una contraseña (cadena de caracteres) y determine si esta es una buena contraseña o no. Diremos que una **buena contraseña** es aquella que cumple las siguientes características:\n",
    "\n",
    "####    1. La contraseña debe tener al menos 8 caracteres. \n",
    "####    2. Contenga al menos una letra mayúscula.\n",
    "####    2. Contenga al menos una letra minúscula.\n",
    "####    2. Contenga al menos un número.\n",
    "\n",
    "#### Imprime mediante un mensaje adecuada si la contraseña que se ingreso es una buena contraseña o no.\n"
   ]
  },
  {
   "cell_type": "markdown",
   "metadata": {},
   "source": [
    "## Práctica 3.2"
   ]
  },
  {
   "cell_type": "markdown",
   "metadata": {},
   "source": [
    "#### Escribe un programa en Python que que solicite al usuario ingresar una sucesión finita de números separados por comas y generé e imprima una lista y una tupla cada uno de los números de la sucesión. Por ejemplo, si la sucesión de números es: \n",
    "#### `34,67,55,33,12,98` \n",
    "#### entonces se debe imprimir: \n",
    "#### `['34', '67', '55', '33', '12', '98']` y `('34', '67', '55', '33', '12', '98')`"
   ]
  },
  {
   "cell_type": "markdown",
   "metadata": {},
   "source": [
    "## Práctica 3.3"
   ]
  },
  {
   "cell_type": "markdown",
   "metadata": {},
   "source": [
    "#### Escribe un programa en Python que solicite al usuario ingresar una sucesión finita de palabras separadas por comas e imprima las palabras separadas por comas pero en orden alfabético. Por ejemplo, si el usuario ingresa:\n",
    "#### `Seguros, Matemáticas, Riesgo, Finanzas, Estadística`\n",
    "#### Entonces se debe imprimir:\n",
    "#### `Estadística, Finanzas, Matemáticas, Riesgo, Seguros`"
   ]
  },
  {
   "cell_type": "markdown",
   "metadata": {},
   "source": [
    "## Práctica 3.4"
   ]
  },
  {
   "cell_type": "markdown",
   "metadata": {},
   "source": [
    "#### Escribe un programa en Python que solicite al usuario ingresar una sucesión de palabras separadas por espacios, luego remueva todas las palabras duplicadas e imprimalas en orden alfabético."
   ]
  },
  {
   "cell_type": "markdown",
   "metadata": {},
   "source": [
    "## Práctica 3.5"
   ]
  },
  {
   "cell_type": "markdown",
   "metadata": {},
   "source": [
    "#### Escribe un programa en Python que solicite al usuario que ingrese una sucesión de números binarios de $4$ dígitos separados por comas  y determina si estos son o no divisibles entre $5$ e imprimelos separados por comas aquellos que si lo sean.\n",
    "\n",
    "##### **Sugerencia:** Utiliza la función `int()`. La función `int()` se utiliza para convertir una cadena válida a un número entero. Puede recibir un segundo argumento y tiene múltiples formas de uso, pero en el contexto de números binarios, una de las formas más comunes es la conversión de una cadena de dígitos binarios a un número entero. Por ejemplo \n"
   ]
  },
  {
   "cell_type": "code",
   "execution_count": 3,
   "metadata": {},
   "outputs": [
    {
     "name": "stdout",
     "output_type": "stream",
     "text": [
      "13\n"
     ]
    }
   ],
   "source": [
    "cadena_binaria = '1101' # cadena_binaria es una cadena que representa un número binario.\n",
    "numero_decimal = int(cadena_binaria, 2) #2 en el segundo argumento (el cual es opcional)\n",
    "# que indica que la cadena de entrada está en base 2 (binario).\n",
    "print(numero_decimal)"
   ]
  },
  {
   "cell_type": "markdown",
   "metadata": {},
   "source": [
    "## Práctica 3.6"
   ]
  },
  {
   "cell_type": "markdown",
   "metadata": {},
   "source": [
    "#### Escribe un programa en Python que solicite al usuario que ingrese una cadena (esta puede ser incluso una línea de texto). Luego, utiliza un diccionario para almacenar el número de letras y dígitos que hay en la cadena. Imprime el reultado final mediante un mensaje adecuado."
   ]
  },
  {
   "cell_type": "markdown",
   "metadata": {},
   "source": [
    "## Práctica 3.7"
   ]
  },
  {
   "cell_type": "markdown",
   "metadata": {},
   "source": [
    "#### Escribe un programa en Python que solicite al usuario que ingrese una cadena (esta puede ser incluso una línea de texto). Luego, utiliza un diccionario para almacenar el número de letras mayusculas y letras minusculas que hay en la cadena. Imprime el reultado final mediante un mensaje adecuado."
   ]
  },
  {
   "cell_type": "markdown",
   "metadata": {},
   "source": [
    "## Práctica 3.8"
   ]
  },
  {
   "cell_type": "markdown",
   "metadata": {},
   "source": [
    "#### Escribe un programa en Python que lea el archivo **estado_cuenta.txt** el cual es el estado de cuenta de un cliente del Banco del Bienestar. Luego, basado en el saldo inicial indicado en el archivo y el registro de las transacciones: *Depositos* o *Retiros* y los montos respectivos indicados en el archivo, imprime el saldo final del cliente.\n",
    "\n",
    "<a href=\"https://drive.google.com/file/d/14ReM5-uuCym8sF2oCmN-333gudu0PA5p/view?usp=sharing\" download> Descargar estado_cuenta.txt</a>"
   ]
  },
  {
   "cell_type": "markdown",
   "metadata": {},
   "source": [
    "## Práctica 3.9"
   ]
  },
  {
   "cell_type": "markdown",
   "metadata": {},
   "source": [
    "#### Escribe un programa en Python que solicite al usuario una contraseña (cadena de caracteres) y determine si esta es una **muy buena contraseña** o no. Diremos que una **muy buena contraseña** es aquella que cumple las siguientes características:\n",
    "\n",
    "####    1. La contraseña debe tener al menos 8 caracteres. \n",
    "####    2. La contraseña debe a lo más 12 caracteres. \n",
    "####    3. Contenga al menos una letra mayúscula.\n",
    "####    4. Contenga al menos una letra minúscula.\n",
    "####    5. Contenga al menos un número.\n",
    "####    6. La contraseña debe tener al menos un caracter del conjunto {$,@,#}. \n",
    "\n",
    "#### Imprime mediante un mensaje adecuada si la contraseña que se ingreso es una muy buena contraseña o no."
   ]
  },
  {
   "cell_type": "markdown",
   "metadata": {},
   "source": [
    "## Práctica"
   ]
  },
  {
   "cell_type": "markdown",
   "metadata": {},
   "source": [
    "## Práctica"
   ]
  },
  {
   "cell_type": "markdown",
   "metadata": {},
   "source": [
    "## Práctica"
   ]
  },
  {
   "cell_type": "markdown",
   "metadata": {},
   "source": [
    "## Práctica"
   ]
  },
  {
   "cell_type": "markdown",
   "metadata": {},
   "source": [
    "## Práctica"
   ]
  },
  {
   "cell_type": "markdown",
   "metadata": {},
   "source": []
  }
 ],
 "metadata": {
  "kernelspec": {
   "display_name": "Python 3",
   "language": "python",
   "name": "python3"
  },
  "language_info": {
   "codemirror_mode": {
    "name": "ipython",
    "version": 3
   },
   "file_extension": ".py",
   "mimetype": "text/x-python",
   "name": "python",
   "nbconvert_exporter": "python",
   "pygments_lexer": "ipython3",
   "version": "3.11.2"
  },
  "orig_nbformat": 4
 },
 "nbformat": 4,
 "nbformat_minor": 2
}
