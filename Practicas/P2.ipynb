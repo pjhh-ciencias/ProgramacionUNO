{
 "cells": [
  {
   "attachments": {},
   "cell_type": "markdown",
   "metadata": {},
   "source": [
    "# A practicar ... \n",
    "<center>\n",
    "<img src=\"../Imagenes/gorila_music.png\" alt=\"\", width=\"25%\" height=\"auto\">\n",
    "<!-- ![Tablero de ajedrez](./Quizes_Imagenes/tablero_ajedrez.jpg) -->\n",
    "</center>"
   ]
  },
  {
   "cell_type": "markdown",
   "metadata": {},
   "source": [
    "## Practica 2.1 ¿Qué día de la semana es el 1 de enero?\n",
    "\n",
    "#### La siguiente fórmula se puede utilizar para determinar el día de la semana para el 1 de enero en un año determinado:\n",
    "\n",
    "$$ \\mathrm{dia\\_semana}= \\left( \\mathrm{año} + \\left \\lfloor \\frac{\\mathrm{año} - 1}{4} \\right\\rfloor - \\left \\lfloor \\frac{\\mathrm{año} - 1}{100} \\right\\rfloor  + \\left \\lfloor \\frac{\\mathrm{año} - 1}{400} \\right\\rfloor  \\right)\\% 7    $$\n",
    "\n",
    "#### El resultado calculado por esta fórmula es un número entero que representa el día de la semana. El domingo está representado por $0$. Los días restantes de la semana siguen en secuencia hasta el sábado, que está representado por $6$.\n",
    "\n",
    "#### Usa la fórmula anterior para escribir un programa solicite al usuario un  año   e informe el día de la semana para el $1$ de enero de ese año La salida del  programa debe incluir el nombre completo del día de la semana, no solo el número entero devuelto por la fórmula."
   ]
  },
  {
   "cell_type": "markdown",
   "metadata": {},
   "source": [
    "## Practica 2.2 \n",
    "\n",
    "#### Crea un programa en Python que lea una lista de números enteros positivos e imprima una *barra de números* como se aprecia en la siguiente imagen:\n",
    "<center>\n",
    "<img src=\"../Imagenes/grafica_barra_numeros.jpg\" alt=\"\", width=\"35%\" height=\"auto\">\n",
    "</center>\n",
    "\n",
    "En la imagen anterior la gráfica fue contruida a partir de la lista: "
   ]
  },
  {
   "cell_type": "code",
   "execution_count": 1,
   "metadata": {},
   "outputs": [],
   "source": [
    "numeros = [19, 20, 15, 7, 11]"
   ]
  },
  {
   "attachments": {},
   "cell_type": "markdown",
   "metadata": {},
   "source": [
    "## Práctica 2.3\n",
    "\n",
    "#### Cree dos conjuntos de estudiantes, uno para los que presentaron un examen y otro para los que enviaron un proyecto.\n",
    "\n"
   ]
  },
  {
   "cell_type": "code",
   "execution_count": null,
   "metadata": {},
   "outputs": [],
   "source": [
    "examen = {'Benito','Maribel','Ximena','Doroteo','Flavia','Ignacio','Francisco','Lucia','Anahi','Juan','Pedro','Santiago','Lluvia'}\n",
    "\n",
    "proyecto = {'Heriberto','Ximena','Flavio','Concepcion','Fernando','Francisco','Jesus','Pedro','Santiago','Sebastian','Coral'}"
   ]
  },
  {
   "cell_type": "code",
   "execution_count": null,
   "metadata": {},
   "outputs": [],
   "source": [
    "print(examen)\n",
    "print(proyecto)"
   ]
  },
  {
   "attachments": {},
   "cell_type": "markdown",
   "metadata": {},
   "source": [
    "#### Usando estos conjuntos responde las siguientes preguntas:\n",
    "\n",
    "1. ##### ¿Qué estudiantes presentaron el examen y enviaron el proyecto?\n",
    "2. ##### ¿Qué estudiantes sólo presentaron el examen?\n",
    "3. ##### ¿Qué estudiantes sólo presentaron el proyecto?\n",
    "4. ##### Haga una lista de todos los estudiantes que presentaron el examen y el proyecto (o ambos).\n",
    "5. ##### Haga una lista de todos los estudiantes que  presentaron el examen y el proyecto (pero no ambos)."
   ]
  },
  {
   "attachments": {},
   "cell_type": "markdown",
   "metadata": {},
   "source": [
    "## Practica 2.4\n",
    "\n",
    "#### En un estado en particular, las placas de  automóviles más antiguas constan de tres letras mayúsculas seguidas de tres dígitos. Cuando se habían utilizado todas las matrículas que seguían ese patrón, se cambió el formato a cuatro dígitos seguidos de tres letras mayúsculas. \n",
    "\n",
    "#### Escribe  un programa en Python que solicite al usuario una cadena de caracteres. Entonces, evalua e imprime  un mensaje que indique si los caracteres son válidos para una placa de estilo más antiguo o para una placa de estilo más nuevo. El programa debe mostrar un mensaje apropiado si la cadena ingresada por el usuario no es válida para ningún estilo de matrícula."
   ]
  }
 ],
 "metadata": {
  "kernelspec": {
   "display_name": "Python 3",
   "language": "python",
   "name": "python3"
  },
  "language_info": {
   "codemirror_mode": {
    "name": "ipython",
    "version": 3
   },
   "file_extension": ".py",
   "mimetype": "text/x-python",
   "name": "python",
   "nbconvert_exporter": "python",
   "pygments_lexer": "ipython3",
   "version": "3.11.1"
  },
  "orig_nbformat": 4
 },
 "nbformat": 4,
 "nbformat_minor": 2
}
