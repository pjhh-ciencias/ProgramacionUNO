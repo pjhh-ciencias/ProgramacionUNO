{
 "cells": [
  {
   "attachments": {},
   "cell_type": "markdown",
   "metadata": {},
   "source": [
    "# A practicar ... \n",
    "<center>\n",
    "<img src=\"../Imagenes/gorila_music.png\" alt=\"\", width=\"25%\" height=\"auto\">\n",
    "<!-- ![Tablero de ajedrez](./Quizes_Imagenes/tablero_ajedrez.jpg) -->\n",
    "</center>"
   ]
  },
  {
   "attachments": {},
   "cell_type": "markdown",
   "metadata": {},
   "source": [
    "## Práctica 5.1\n",
    "\n",
    "#### Cree dos conjuntos de estudiantes, uno para los que presentaron un examen y otro para los que enviaron un proyecto.\n",
    "\n"
   ]
  },
  {
   "cell_type": "code",
   "execution_count": null,
   "metadata": {},
   "outputs": [],
   "source": [
    "examen = {'Benito','Maribel','Ximena','Doroteo','Flavia','Ignacio','Francisco','Lucia','Anahi','Juan','Pedro','Santiago','Lluvia'}\n",
    "\n",
    "proyecto = {'Heriberto','Ximena','Flavio','Concepcion','Fernando','Francisco','Jesus','Pedro','Santiago','Sebastian','Coral'}"
   ]
  },
  {
   "cell_type": "code",
   "execution_count": null,
   "metadata": {},
   "outputs": [],
   "source": [
    "print(examen)\n",
    "print(proyecto)"
   ]
  },
  {
   "attachments": {},
   "cell_type": "markdown",
   "metadata": {},
   "source": [
    "#### Usando estos conjuntos responde las siguientes preguntas:\n",
    "\n",
    "1. ##### ¿Qué estudiantes presentaron el examen y enviaron el proyecto?\n",
    "2. ##### ¿Qué estudiantes sólo presentaron el examen?\n",
    "3. ##### ¿Qué estudiantes sólo presentaron el proyecto?\n",
    "4. ##### Haga una lista de todos los estudiantes que presentaron el examen y el proyecto (o ambos).\n",
    "5. ##### Haga una lista de todos los estudiantes que  presentaron el examen y el proyecto (pero no ambos)."
   ]
  },
  {
   "attachments": {},
   "cell_type": "markdown",
   "metadata": {},
   "source": [
    "**Solución:**"
   ]
  },
  {
   "attachments": {},
   "cell_type": "markdown",
   "metadata": {},
   "source": [
    "1."
   ]
  },
  {
   "cell_type": "code",
   "execution_count": 5,
   "metadata": {},
   "outputs": [
    {
     "name": "stdout",
     "output_type": "stream",
     "text": [
      "Los estudiantes que presentaron Examen y Proyecto fueron: Ximena, Santiago, Pedro y Francisco\n"
     ]
    }
   ],
   "source": [
    "examen_y_proyecto = ', '.join(list(examen.intersection(proyecto))[:-1]) + ' y ' + list(examen.intersection(proyecto))[-1]\n",
    "\n",
    "print(f'Los estudiantes que presentaron Examen y Proyecto fueron: {examen_y_proyecto}')"
   ]
  },
  {
   "attachments": {},
   "cell_type": "markdown",
   "metadata": {},
   "source": [
    "2."
   ]
  },
  {
   "cell_type": "code",
   "execution_count": 6,
   "metadata": {},
   "outputs": [
    {
     "name": "stdout",
     "output_type": "stream",
     "text": [
      "Los estudiantes que sólo presentaron Examen fueron: Juan, Ignacio, Maribel, Flavia, Lluvia, Anahi, Benito, Lucia y Doroteo\n"
     ]
    }
   ],
   "source": [
    "solo_examen = ', '.join(list(examen.difference(proyecto))[:-1]) + ' y ' + list(examen.difference(proyecto))[-1]\n",
    "\n",
    "print(f'Los estudiantes que sólo presentaron Examen fueron: {solo_examen}')"
   ]
  },
  {
   "attachments": {},
   "cell_type": "markdown",
   "metadata": {},
   "source": [
    "3."
   ]
  },
  {
   "cell_type": "code",
   "execution_count": 7,
   "metadata": {},
   "outputs": [
    {
     "name": "stdout",
     "output_type": "stream",
     "text": [
      "Los estudiantes que sólo presentaron Examen fueron: Coral, Flavio, Concepcion, Heriberto, Fernando, Sebastian y Jesus\n"
     ]
    }
   ],
   "source": [
    "solo_proyecto = ', '.join(list(proyecto.difference(examen))[:-1]) + ' y ' + list(proyecto.difference(examen))[-1]\n",
    "\n",
    "print(f'Los estudiantes que sólo presentaron Examen fueron: {solo_proyecto}')"
   ]
  },
  {
   "attachments": {},
   "cell_type": "markdown",
   "metadata": {},
   "source": [
    "4."
   ]
  },
  {
   "cell_type": "code",
   "execution_count": 8,
   "metadata": {},
   "outputs": [
    {
     "name": "stdout",
     "output_type": "stream",
     "text": [
      "Los estudiantes que presentaron Examen o Proyecto fueron:\n",
      " Ignacio, Fernando, Coral, Santiago, Flavia, Anahi, Benito, Sebastian, Jesus, Juan, Francisco, Maribel, Flavio, Concepcion, Ximena, Lluvia, Heriberto, Lucia, Doroteo y Pedro\n"
     ]
    }
   ],
   "source": [
    "examen_o_proyecto = ', '.join(list(examen.union(proyecto))[:-1]) + ' y ' + list(examen.union(proyecto))[-1]\n",
    "\n",
    "print(f'Los estudiantes que presentaron Examen o Proyecto fueron:\\n {examen_o_proyecto}')"
   ]
  },
  {
   "attachments": {},
   "cell_type": "markdown",
   "metadata": {},
   "source": [
    "5. "
   ]
  },
  {
   "cell_type": "code",
   "execution_count": 9,
   "metadata": {},
   "outputs": [
    {
     "name": "stdout",
     "output_type": "stream",
     "text": [
      "Los estudiantes que presentaron Examen o Proyecto pero no ambos fueron:\n",
      " Juan, Ignacio, Coral, Flavio, Maribel, Doroteo, Concepcion, Flavia, Lucia, Lluvia, Heriberto, Anahi, Benito, Fernando, Sebastian y Jesus\n"
     ]
    }
   ],
   "source": [
    "examen_o_proyecto_no_ambos = ', '.join(list(examen.symmetric_difference(proyecto))[:-1]) + ' y ' + list(examen.symmetric_difference(proyecto))[-1]\n",
    "\n",
    "print(f'Los estudiantes que presentaron Examen o Proyecto pero no ambos fueron:\\n {examen_o_proyecto_no_ambos}')"
   ]
  },
  {
   "attachments": {},
   "cell_type": "markdown",
   "metadata": {},
   "source": [
    "## Practica 5.2 \n",
    "\n",
    "#### Crea un programa en Python \n",
    "<center>\n",
    "<img src=\"../Imagenes/barra_numeros.jpg\" alt=\"\", width=\"35%\" height=\"auto\">\n",
    "</center>"
   ]
  },
  {
   "attachments": {},
   "cell_type": "markdown",
   "metadata": {},
   "source": [
    "**Solución:**"
   ]
  },
  {
   "cell_type": "code",
   "execution_count": 24,
   "metadata": {},
   "outputs": [
    {
     "name": "stdout",
     "output_type": "stream",
     "text": [
      "\n",
      " Grafica de barras de números\n",
      "\n",
      "  Indice  \t  Valor   \t\t  Barra   \n",
      "    0     \t    19    \t******************* \n",
      "    1     \t    20    \t********************\n",
      "    2     \t    15    \t***************     \n",
      "    3     \t    7     \t*******             \n",
      "    4     \t    11    \t***********         \n"
     ]
    }
   ],
   "source": [
    "numeros = [19, 20, 15, 7, 11]\n",
    "print('\\n Grafica de barras de números\\n')\n",
    "print(f'{\"Indice\":^10}\\t{\"Valor\":^10}\\t\\t{\"Barra\":^10}')\n",
    "for index, value in enumerate(numeros):\n",
    "    print(f'{index:^10d}\\t{value:^10d}\\t{\"*\"*value:<20}')"
   ]
  },
  {
   "cell_type": "code",
   "execution_count": 12,
   "metadata": {},
   "outputs": [
    {
     "name": "stdout",
     "output_type": "stream",
     "text": [
      "[(0, 19), (1, 20), (2, 15), (3, 7), (4, 11)]\n"
     ]
    }
   ],
   "source": [
    "z = list(enumerate(numeros))\n",
    "print(z)"
   ]
  },
  {
   "attachments": {},
   "cell_type": "markdown",
   "metadata": {},
   "source": [
    "## Práctica 5.3 Zodiaco Chino\n",
    "\n",
    "#### El zodíaco Chino asigna animales a los años en un ciclo de $12$ años. En la siguiente tabla se muestra un ciclo de $12$ años. El patrón se repite a partir de ahí, siendo $2012$ otro año del dragón y $1999$ otro año de la liebre.\n",
    "\n",
    "<center>\n",
    "<img src=\"../Imagenes/Zodiaco_chino.jpg\" alt=\"\", width=\"auto\" height=\"auto\">\n",
    "</center>\n",
    "\n",
    "#### Escriba un programa en Python que solicite al usuario un año y muestre el animal asociado con ese año. El  programa debe funcionar correctamente para cualquier año mayor o igual a cero, no solo para los enumerados en la tabla."
   ]
  },
  {
   "attachments": {},
   "cell_type": "markdown",
   "metadata": {},
   "source": [
    "**Solución:**"
   ]
  },
  {
   "cell_type": "code",
   "execution_count": 28,
   "metadata": {},
   "outputs": [
    {
     "name": "stdout",
     "output_type": "stream",
     "text": [
      "En el calendario Chino el 2021 es el año del Buey\n"
     ]
    }
   ],
   "source": [
    "year = int(input(\"Ingresa un año: \"))\n",
    "\n",
    "if year % 12 == 0:\n",
    "    animal = \"Mono\"\n",
    "elif year % 12 == 1:\n",
    "    animal = \"Gallo\"\n",
    "elif year % 12 == 2:\n",
    "    animal = \"Perro\"\n",
    "elif year % 12 == 3:\n",
    "    animal = \"Cerdo\"\n",
    "elif year % 12 == 4:\n",
    "    animal = \"Rata\"\n",
    "elif year % 12 == 5:\n",
    "    animal = \"Buey\"\n",
    "elif year % 12 == 6:\n",
    "    animal = \"Tigre\"\n",
    "elif year % 12 == 7:\n",
    "    animal = \"Conejo\"\n",
    "elif year % 12 == 8:\n",
    "    animal = \"Dragón\"\n",
    "elif year % 12 == 9:\n",
    "    animal = \"Serpiente\"\n",
    "elif year % 12 == 10:\n",
    "    animal = \"Caballo\"\n",
    "elif year % 12 == 11:\n",
    "    animal = \"Cabra\"\n",
    "\n",
    "# Report the result\n",
    "print(f\"En el calendario Chino el {year} es el año del {animal}\")"
   ]
  },
  {
   "attachments": {},
   "cell_type": "markdown",
   "metadata": {},
   "source": [
    "## Practica 5.4 ¿Qué día de la semana es el 1 de enero?\n",
    "\n",
    "#### La siguiente fórmula se puede utilizar para determinar el día de la semana para el 1 de enero en un año determinado:\n",
    "\n",
    "$$ \\mathrm{dia\\_semana}= \\left( \\mathrm{año} + \\left \\lfloor \\frac{\\mathrm{año} - 1}{4} \\right\\rfloor - \\left \\lfloor \\frac{\\mathrm{año} - 1}{100} \\right\\rfloor  + \\left \\lfloor \\frac{\\mathrm{año} - 1}{400} \\right\\rfloor  \\right)\\% 7    $$\n",
    "\n",
    "#### El resultado calculado por esta fórmula es un número entero que representa el día de la semana. El domingo está representado por $0$. Los días restantes de la semana siguen en secuencia hasta el sábado, que está representado por $6$.\n",
    "\n",
    "#### Usa la fórmula anterior para escribir un programa solicite al usuario un  año   e informe el día de la semana para el $1$ de enero de ese año La salida del  programa debe incluir el nombre completo del día de la semana, no solo el número entero devuelto por la fórmula."
   ]
  },
  {
   "attachments": {},
   "cell_type": "markdown",
   "metadata": {},
   "source": [
    "**Solución:**"
   ]
  },
  {
   "cell_type": "code",
   "execution_count": 33,
   "metadata": {},
   "outputs": [
    {
     "name": "stdout",
     "output_type": "stream",
     "text": [
      "2473\n",
      "2\n",
      "El dia primero de enero del año 1991 es Martes\n"
     ]
    }
   ],
   "source": [
    "import math \n",
    "\n",
    "year = int(input('Ingresa un año'))\n",
    "\n",
    "dia_semana = (year + math.floor((year-1)/4) - math.floor((year-1)/100) + math.floor((year-1)/400))\n",
    "\n",
    "#print(dia_semana)\n",
    "#print(dia_semana%7)\n",
    "\n",
    "if dia_semana % 7 == 0:\n",
    "    dia = 'Domingo'\n",
    "elif dia_semana % 7 == 1:\n",
    "    dia = 'Lunes'\n",
    "elif dia_semana % 7 == 2:\n",
    "    dia = 'Martes'\n",
    "elif dia_semana % 7 == 3:\n",
    "    dia = 'Miercoles'\n",
    "elif dia_semana % 7 == 4:\n",
    "    dia = 'Jueves'\n",
    "elif dia_semana % 7 == 5:\n",
    "    dia = 'Viernes'\n",
    "elif dia_semana % 7 == 6:\n",
    "    dia = 'Sabado'\n",
    "\n",
    "print(f'El dia primero de enero del año {year} es {dia}')"
   ]
  },
  {
   "attachments": {},
   "cell_type": "markdown",
   "metadata": {},
   "source": [
    "## Practica 5.5\n",
    "\n",
    "#### En un estado en particular, las placas de  automóviles más antiguas constan de tres letras mayúsculas seguidas de tres dígitos. Cuando se habían utilizado todas las matrículas que seguían ese patrón, se cambió el formato a cuatro dígitos seguidos de tres letras mayúsculas. \n",
    "\n",
    "#### Escribe  un programa en Python que solicite al usuario una cadena de caracteres. Entonces, evalua e imprime  un mensaje que indique si los caracteres son válidos para una placa de estilo más antiguo o para una placa de estilo más nuevo. El programa debe mostrar un mensaje apropiado si la cadena ingresada por el usuario no es válida para ningún estilo de matrícula."
   ]
  },
  {
   "cell_type": "code",
   "execution_count": 26,
   "metadata": {},
   "outputs": [
    {
     "name": "stdout",
     "output_type": "stream",
     "text": [
      "La placa: 5F6GGG no tiene un formato válido\n"
     ]
    }
   ],
   "source": [
    "placa = input('Ingresa una placa')\n",
    "\n",
    "if len(placa)== 6 and ord(placa[0]) in range(ord('A'),ord('Z')) and ord(placa[1]) in range(ord('A'),ord('Z')) and ord(placa[2]) in range(ord('A'),ord('Z')) and ord(placa[3]) in range(ord('0'),ord('9')) and ord(placa[4]) in range(ord('0'),ord('9')) and ord(placa[5]) in range(ord('0'),ord('9')):\n",
    "    print(f'La placa: {placa} es válida para un formato antiguo')\n",
    "elif len(placa)== 7 and  ord(placa[0]) in range(ord('0'),ord('9')) and ord(placa[1]) in range(ord('0'),ord('9')) and ord(placa[2]) in range(ord('0'),ord('9')) and ord(placa[3]) in range(ord('0'),ord('9')) and ord(placa[4]) in range(ord('A'),ord('Z')) and ord(placa[5]) in range(ord('A'),ord('Z')) and ord(placa[6]) in range(ord('A'),ord('Z')):\n",
    "    print(f'La placa: {placa} es válida para un formato nuevo')\n",
    "else:\n",
    "    print(f'La placa: {placa} no tiene un formato válido')"
   ]
  },
  {
   "attachments": {},
   "cell_type": "markdown",
   "metadata": {},
   "source": [
    "## Práctica 5.6\n",
    "\n",
    "#### Crea un programa en Python que imprima la tabla Pitagórica que muestre los productos de todas las combinaciones de números enteros desde $1$ a $1$ hasta $10$ por $10$ inclusive. La tabla Pitagórica debe incluir una fila de etiquetas en la parte superior. que contenga los números del $1$ al $10$. También debe incluir etiquetas en el lado izquierdo que contengan los números del $1$ al $10$. El resultado esperado del programa se muestra a continuación:\n",
    "\n",
    "<center>\n",
    "<img src=\"../Imagenes/tabla_pitagorica.jpg\" alt=\"\", width=\"auto\" height=\"auto\">\n",
    "</center>\n",
    "\n"
   ]
  },
  {
   "cell_type": "code",
   "execution_count": null,
   "metadata": {},
   "outputs": [],
   "source": []
  },
  {
   "attachments": {},
   "cell_type": "markdown",
   "metadata": {},
   "source": [
    "**Sólución:**"
   ]
  },
  {
   "cell_type": "code",
   "execution_count": 29,
   "metadata": {},
   "outputs": [
    {
     "name": "stdout",
     "output_type": "stream",
     "text": [
      "\t  1  \t  2  \t  3  \t  4  \t  5  \t  6  \t  7  \t  8  \t  9  \t 10  \t\n",
      "  1  \t  1  \t  2  \t  3  \t  4  \t  5  \t  6  \t  7  \t  8  \t  9  \t 10  \t\n",
      "  2  \t  2  \t  4  \t  6  \t  8  \t 10  \t 12  \t 14  \t 16  \t 18  \t 20  \t\n",
      "  3  \t  3  \t  6  \t  9  \t 12  \t 15  \t 18  \t 21  \t 24  \t 27  \t 30  \t\n",
      "  4  \t  4  \t  8  \t 12  \t 16  \t 20  \t 24  \t 28  \t 32  \t 36  \t 40  \t\n",
      "  5  \t  5  \t 10  \t 15  \t 20  \t 25  \t 30  \t 35  \t 40  \t 45  \t 50  \t\n",
      "  6  \t  6  \t 12  \t 18  \t 24  \t 30  \t 36  \t 42  \t 48  \t 54  \t 60  \t\n",
      "  7  \t  7  \t 14  \t 21  \t 28  \t 35  \t 42  \t 49  \t 56  \t 63  \t 70  \t\n",
      "  8  \t  8  \t 16  \t 24  \t 32  \t 40  \t 48  \t 56  \t 64  \t 72  \t 80  \t\n",
      "  9  \t  9  \t 18  \t 27  \t 36  \t 45  \t 54  \t 63  \t 72  \t 81  \t 90  \t\n",
      " 10  \t 10  \t 20  \t 30  \t 40  \t 50  \t 60  \t 70  \t 80  \t 90  \t 100 \t\n"
     ]
    }
   ],
   "source": [
    "min = 1\n",
    "max = 10\n",
    "print(f\"\\t\", end=\"\")\n",
    "for i in range(min, max + 1):\n",
    "    print(f\"{i :^5d}\", end=\"\\t\")\n",
    "print()\n",
    "\n",
    "for i in range(min,max + 1):\n",
    "    print(\"{:^5d}\".format(i), end=\"\\t\")\n",
    "    for j in range(min, max + 1):\n",
    "        print(\"{:^5d}\".format(i*j), end=\"\\t\")\n",
    "    print()"
   ]
  },
  {
   "cell_type": "code",
   "execution_count": null,
   "metadata": {},
   "outputs": [],
   "source": []
  }
 ],
 "metadata": {
  "kernelspec": {
   "display_name": "Python 3",
   "language": "python",
   "name": "python3"
  },
  "language_info": {
   "codemirror_mode": {
    "name": "ipython",
    "version": 3
   },
   "file_extension": ".py",
   "mimetype": "text/x-python",
   "name": "python",
   "nbconvert_exporter": "python",
   "pygments_lexer": "ipython3",
   "version": "3.11.0"
  },
  "orig_nbformat": 4
 },
 "nbformat": 4,
 "nbformat_minor": 2
}
