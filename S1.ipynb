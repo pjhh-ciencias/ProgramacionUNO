{
  "nbformat": 4,
  "nbformat_minor": 0,
  "metadata": {
    "colab": {
      "provenance": [],
      "authorship_tag": "ABX9TyOSwS/1nrgNfCRbCXiaixza",
      "include_colab_link": true
    },
    "kernelspec": {
      "name": "python3",
      "display_name": "Python 3"
    },
    "language_info": {
      "name": "python"
    }
  },
  "cells": [
    {
      "cell_type": "markdown",
      "metadata": {
        "id": "view-in-github",
        "colab_type": "text"
      },
      "source": [
        "<a href=\"https://colab.research.google.com/github/pjhh-ciencias/ProgramacionUNO/blob/main/S1.ipynb\" target=\"_parent\"><img src=\"https://colab.research.google.com/assets/colab-badge.svg\" alt=\"Open In Colab\"/></a>"
      ]
    },
    {
      "cell_type": "code",
      "execution_count": null,
      "metadata": {
        "colab": {
          "base_uri": "https://localhost:8080/"
        },
        "id": "2pDV5pbXaiRU",
        "outputId": "d36c08f4-33ce-470f-89ff-61278152763d"
      },
      "outputs": [
        {
          "output_type": "stream",
          "name": "stdout",
          "text": [
            "Hola mundo\n"
          ]
        }
      ],
      "source": [
        "x = print(\"Hola mundo\")"
      ]
    },
    {
      "cell_type": "code",
      "source": [
        "prin"
      ],
      "metadata": {
        "id": "7sBOxy5hTugL"
      },
      "execution_count": null,
      "outputs": []
    }
  ]
}