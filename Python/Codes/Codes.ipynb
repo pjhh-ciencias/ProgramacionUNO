{
 "cells": [
  {
   "cell_type": "markdown",
   "metadata": {},
   "source": [
    "# Generar estado de cuenta (archivo .txt) de un banco"
   ]
  },
  {
   "cell_type": "code",
   "execution_count": null,
   "metadata": {},
   "outputs": [],
   "source": [
    "import random\n",
    "estado_cuenta = open(\"../Practicas/Archivos/estado_cuenta.txt\",'w') #Creamos el archivo estado_cuenta donde se almacenaran los registros.\n",
    "n=20 #Numero de registros\n",
    "estado_cuenta.write('{:<12}{:>5}{:>5}'.format('TRANSACCION','  ','MONTO\\n'))\n",
    "for i in range(n):\n",
    "    transaccion = random.choice(['Deposito','Retiro']) #Elegimos de forma aleatoria el tipo de transaccion: retiro o deposito\n",
    "    monto = random.randint(1,1000000) #Generamos de forma aleatoria el monto de la transaccion\n",
    "    registro = '{:<12}{:>5}{:>5}'.format(transaccion,'$ ',monto) #Le damos formato al registro que vamos a almacenar.\n",
    "    estado_cuenta.write(registro+'\\n') #Escribimos el registro en el estado de cuenta"
   ]
  }
 ],
 "metadata": {
  "language_info": {
   "name": "python"
  }
 },
 "nbformat": 4,
 "nbformat_minor": 2
}
